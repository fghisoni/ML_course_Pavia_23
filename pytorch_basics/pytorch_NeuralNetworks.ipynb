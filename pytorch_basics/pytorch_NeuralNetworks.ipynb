{
  "nbformat": 4,
  "nbformat_minor": 0,
  "metadata": {
    "colab": {
      "provenance": [],
      "toc_visible": true,
      "gpuType": "T4",
      "include_colab_link": true
    },
    "kernelspec": {
      "name": "python3",
      "display_name": "Python 3"
    },
    "language_info": {
      "name": "python"
    },
    "accelerator": "GPU",
    "gpuClass": "standard"
  },
  "cells": [
    {
      "cell_type": "markdown",
      "metadata": {
        "id": "view-in-github",
        "colab_type": "text"
      },
      "source": [
        "<a href=\"https://colab.research.google.com/github/fghisoni/ML_course_Pavia_23/blob/ML_Course/pytorch_basics/pytorch_NeuralNetworks.ipynb\" target=\"_parent\"><img src=\"https://colab.research.google.com/assets/colab-badge.svg\" alt=\"Open In Colab\"/></a>"
      ]
    },
    {
      "cell_type": "markdown",
      "source": [
        "### Basics of ML with Pytorch\n",
        "\n",
        "Adapted from official [Pytorch tutorial](https://pytorch.org/tutorials/beginner/basics/intro.html) for dealing with PyTorch tensors, datasets, building neural networks etc., also has an accompanying video series."
      ],
      "metadata": {
        "id": "LYRTcMsjffTd"
      }
    },
    {
      "cell_type": "markdown",
      "source": [
        "## Build the Neural Network\n",
        "\n",
        "Neural networks comprise of layers/modules that perform operations on data. The [torch.nn](https://pytorch.org/docs/stable/nn.html) namespace provides all the building blocks you need to build your own neural network. Every module in PyTorch subclasses the [nn.Module](https://pytorch.org/docs/stable/generated/torch.nn.Module.html). A neural network is a module itself that consists of other modules (layers). This nested structure allows for building and managing complex architectures easily.\n",
        "\n",
        "In the following sections, we’ll build a neural network to classify images in the FashionMNIST dataset.\n"
      ],
      "metadata": {
        "id": "zLqa3_Xp71et"
      }
    },
    {
      "cell_type": "code",
      "source": [
        "import os\n",
        "import torch\n",
        "from torch import nn\n",
        "from torch.utils.data import DataLoader\n",
        "from torchvision import datasets, transforms\n"
      ],
      "metadata": {
        "id": "WmkoCs_d8QXU"
      },
      "execution_count": 1,
      "outputs": []
    },
    {
      "cell_type": "markdown",
      "source": [
        "### Get Device for Training\n",
        "\n",
        "We want to be able to train our model on a hardware accelerator like the GPU, if it is available. Let’s check to see if [torch.cuda](https://pytorch.org/docs/stable/notes/cuda.html) is available, else we continue to use the CPU."
      ],
      "metadata": {
        "id": "PYVHRDnm8TOi"
      }
    },
    {
      "cell_type": "code",
      "source": [
        "device = \"cuda\" if torch.cuda.is_available() else \"cpu\"\n",
        "print(f\"Using {device} device\")"
      ],
      "metadata": {
        "id": "lSsakf_z8bZo",
        "outputId": "67a2155f-f443-40bf-c913-d847961b3838",
        "colab": {
          "base_uri": "https://localhost:8080/"
        }
      },
      "execution_count": 2,
      "outputs": [
        {
          "output_type": "stream",
          "name": "stdout",
          "text": [
            "Using cuda device\n"
          ]
        }
      ]
    },
    {
      "cell_type": "markdown",
      "source": [
        "### Define the Class\n",
        "\n",
        "We define our neural network by subclassing `nn.Module`, and initialize the neural network layers in `__init__`. Every `nn.Module` subclass implements the operations on input data in the `forward` method."
      ],
      "metadata": {
        "id": "qLhOQc6Y8fPh"
      }
    },
    {
      "cell_type": "code",
      "source": [
        "class NeuralNetwork(nn.Module):\n",
        "    def __init__(self):\n",
        "        super(NeuralNetwork, self).__init__()\n",
        "        self.flatten = nn.Flatten()\n",
        "        self.linear_relu_stack = nn.Sequential(\n",
        "            nn.Linear(28*28, 512),\n",
        "            nn.ReLU(),\n",
        "            nn.Linear(512, 512),\n",
        "            nn.ReLU(),\n",
        "            nn.Linear(512, 10),\n",
        "        )\n",
        "\n",
        "    def forward(self, x):\n",
        "        x = self.flatten(x)\n",
        "        logits = self.linear_relu_stack(x)\n",
        "        return logits"
      ],
      "metadata": {
        "id": "A1JzqTbt8kjO"
      },
      "execution_count": 3,
      "outputs": []
    },
    {
      "cell_type": "markdown",
      "source": [
        "We create an instance of `NeuralNetwork`, and move it to the `device`, and print its structure."
      ],
      "metadata": {
        "id": "J1T4HVeE8po9"
      }
    },
    {
      "cell_type": "code",
      "source": [
        "model = NeuralNetwork().to(device)\n",
        "print(model)"
      ],
      "metadata": {
        "id": "i5S2Y0UX8t5D",
        "outputId": "2996b70c-e741-49b1-e4c5-3c9883045b26",
        "colab": {
          "base_uri": "https://localhost:8080/"
        }
      },
      "execution_count": 4,
      "outputs": [
        {
          "output_type": "stream",
          "name": "stdout",
          "text": [
            "NeuralNetwork(\n",
            "  (flatten): Flatten(start_dim=1, end_dim=-1)\n",
            "  (linear_relu_stack): Sequential(\n",
            "    (0): Linear(in_features=784, out_features=512, bias=True)\n",
            "    (1): ReLU()\n",
            "    (2): Linear(in_features=512, out_features=512, bias=True)\n",
            "    (3): ReLU()\n",
            "    (4): Linear(in_features=512, out_features=10, bias=True)\n",
            "  )\n",
            ")\n"
          ]
        }
      ]
    },
    {
      "cell_type": "markdown",
      "source": [
        "To use the model, we pass it the input data. This executes the model’s `forward`.\n",
        "\n",
        "Calling the model on the input returns a 2-dimensional tensor with dim=0 corresponding to each output of 10 raw predicted values for each class, and dim=1 corresponding to the individual values of each output. We get the prediction probabilities by passing it through an instance of the `nn.Softmax` module."
      ],
      "metadata": {
        "id": "iDYias168yR1"
      }
    },
    {
      "cell_type": "code",
      "source": [
        "X = torch.rand(1, 28, 28, device=device)\n",
        "logits = model(X)\n",
        "pred_probab = nn.Softmax(dim=1)(logits)\n",
        "y_pred = pred_probab.argmax(1)\n",
        "print(f\"Predicted class: {y_pred}\")"
      ],
      "metadata": {
        "id": "Yjj-R1zi9f9_",
        "outputId": "0d9f4687-a16c-468b-a7ca-eef2d00446ba",
        "colab": {
          "base_uri": "https://localhost:8080/"
        }
      },
      "execution_count": 5,
      "outputs": [
        {
          "output_type": "stream",
          "name": "stdout",
          "text": [
            "Predicted class: tensor([8], device='cuda:0')\n"
          ]
        }
      ]
    },
    {
      "cell_type": "markdown",
      "source": [
        "### Model Layers\n",
        "\n",
        "Let’s break down the layers in the FashionMNIST model. To illustrate it, we will take a sample minibatch of 3 images of size 28x28 and see what happens to it as we pass it through the network."
      ],
      "metadata": {
        "id": "wGDMGpIR-Uvl"
      }
    },
    {
      "cell_type": "code",
      "source": [
        "input_image = torch.rand(3,28,28)\n",
        "print(input_image.size())"
      ],
      "metadata": {
        "id": "4iz2NGn7-cgB",
        "outputId": "71b43aab-a1a3-4472-b7a8-dd73b510f442",
        "colab": {
          "base_uri": "https://localhost:8080/"
        }
      },
      "execution_count": 6,
      "outputs": [
        {
          "output_type": "stream",
          "name": "stdout",
          "text": [
            "torch.Size([3, 28, 28])\n"
          ]
        }
      ]
    },
    {
      "cell_type": "markdown",
      "source": [
        "**nn.Flatten**\n",
        "\n",
        "We initialize the [`nn.Flatten`](https://pytorch.org/docs/stable/generated/torch.nn.Flatten.html) layer to convert each 2D 28x28 image into a contiguous array of 784 pixel values (the minibatch dimension (at dim=0) is maintained).\n",
        "\n"
      ],
      "metadata": {
        "id": "g5MvoDWG-gtz"
      }
    },
    {
      "cell_type": "code",
      "source": [
        "flatten = nn.Flatten()\n",
        "flat_image = flatten(input_image)\n",
        "print(flat_image.size())"
      ],
      "metadata": {
        "id": "nPCEX-2V-4pI",
        "outputId": "16ead4a0-b56f-4dcc-a488-8480a000efd7",
        "colab": {
          "base_uri": "https://localhost:8080/"
        }
      },
      "execution_count": 7,
      "outputs": [
        {
          "output_type": "stream",
          "name": "stdout",
          "text": [
            "torch.Size([3, 784])\n"
          ]
        }
      ]
    },
    {
      "cell_type": "markdown",
      "source": [
        "**nn.Linear**\n",
        "\n",
        "The [linear layer](https://pytorch.org/docs/stable/generated/torch.nn.Linear.html) is a module that applies a linear transformation on the input using its stored weights and biases."
      ],
      "metadata": {
        "id": "hYX_wGvz-31r"
      }
    },
    {
      "cell_type": "code",
      "source": [
        "layer1 = nn.Linear(in_features=28*28, out_features=20)\n",
        "hidden1 = layer1(flat_image)\n",
        "print(hidden1.size())"
      ],
      "metadata": {
        "id": "0OTtNFni-7uZ",
        "outputId": "1f4e007d-e772-44f5-d6ae-d38e5912fb2a",
        "colab": {
          "base_uri": "https://localhost:8080/"
        }
      },
      "execution_count": 8,
      "outputs": [
        {
          "output_type": "stream",
          "name": "stdout",
          "text": [
            "torch.Size([3, 20])\n"
          ]
        }
      ]
    },
    {
      "cell_type": "markdown",
      "source": [
        "**nn.ReLU**\n",
        "\n",
        "Non-linear activations are what create the complex mappings between the model’s inputs and outputs. They are applied after linear transformations to introduce nonlinearity, helping neural networks learn a wide variety of phenomena.\n",
        "\n",
        "In this model, we use [`nn.ReLU`](https://pytorch.org/docs/stable/generated/torch.nn.ReLU.html) between our linear layers, but there’s other activations to introduce non-linearity in your model."
      ],
      "metadata": {
        "id": "8CkWAD1B_WN1"
      }
    },
    {
      "cell_type": "code",
      "source": [
        "print(f\"Before ReLU: {hidden1}\\n\\n\")\n",
        "hidden1 = nn.ReLU()(hidden1)\n",
        "print(f\"After ReLU: {hidden1}\")"
      ],
      "metadata": {
        "id": "3kW1AbfK_kc3",
        "outputId": "e469c150-1805-466b-bd46-b29975e79356",
        "colab": {
          "base_uri": "https://localhost:8080/"
        }
      },
      "execution_count": 9,
      "outputs": [
        {
          "output_type": "stream",
          "name": "stdout",
          "text": [
            "Before ReLU: tensor([[ 1.1307e-01, -9.1482e-01,  3.9101e-01,  2.3324e-01,  4.0821e-01,\n",
            "          2.7103e-01, -1.7307e-01, -5.5440e-02, -2.5094e-01, -3.8925e-01,\n",
            "          9.1224e-02, -6.1411e-01,  1.1197e-01, -5.1206e-01,  9.1333e-02,\n",
            "          2.1823e-01,  4.5250e-01,  4.9909e-01, -1.2863e-01,  2.3593e-01],\n",
            "        [-2.6357e-01, -7.7089e-01,  1.8613e-01,  2.8436e-01,  2.0516e-01,\n",
            "          2.0967e-01, -4.9312e-01, -4.1332e-04, -4.5748e-01, -3.2990e-01,\n",
            "          1.0394e-01, -7.0207e-01,  9.3106e-02, -2.4388e-01,  6.2708e-01,\n",
            "          1.4002e-01,  3.0725e-01,  1.5097e-01, -4.6906e-01,  7.4669e-02],\n",
            "        [-3.2992e-01, -7.9792e-01,  4.3903e-01,  3.4176e-01, -1.5026e-01,\n",
            "          5.5331e-02, -8.7693e-02, -6.2679e-02, -2.9324e-01, -1.7635e-01,\n",
            "         -1.7940e-01, -7.6441e-01,  3.6052e-01, -8.4449e-01,  2.0434e-01,\n",
            "          1.4504e-01,  2.1349e-01,  8.7149e-02, -2.9844e-01,  1.5763e-01]],\n",
            "       grad_fn=<AddmmBackward0>)\n",
            "\n",
            "\n",
            "After ReLU: tensor([[0.1131, 0.0000, 0.3910, 0.2332, 0.4082, 0.2710, 0.0000, 0.0000, 0.0000,\n",
            "         0.0000, 0.0912, 0.0000, 0.1120, 0.0000, 0.0913, 0.2182, 0.4525, 0.4991,\n",
            "         0.0000, 0.2359],\n",
            "        [0.0000, 0.0000, 0.1861, 0.2844, 0.2052, 0.2097, 0.0000, 0.0000, 0.0000,\n",
            "         0.0000, 0.1039, 0.0000, 0.0931, 0.0000, 0.6271, 0.1400, 0.3072, 0.1510,\n",
            "         0.0000, 0.0747],\n",
            "        [0.0000, 0.0000, 0.4390, 0.3418, 0.0000, 0.0553, 0.0000, 0.0000, 0.0000,\n",
            "         0.0000, 0.0000, 0.0000, 0.3605, 0.0000, 0.2043, 0.1450, 0.2135, 0.0871,\n",
            "         0.0000, 0.1576]], grad_fn=<ReluBackward0>)\n"
          ]
        }
      ]
    },
    {
      "cell_type": "markdown",
      "source": [
        "**nn.Sequential**\n",
        "\n",
        "[`nn.Sequential`](https://pytorch.org/docs/stable/generated/torch.nn.Sequential.html) is an ordered container of modules. The data is passed through all the modules in the same order as defined. You can use sequential containers to put together a quick network like `seq_modules`."
      ],
      "metadata": {
        "id": "x8trQ1l6_sz-"
      }
    },
    {
      "cell_type": "code",
      "source": [
        "seq_modules = nn.Sequential(\n",
        "    flatten,\n",
        "    layer1,\n",
        "    nn.ReLU(),\n",
        "    nn.Linear(20, 10)\n",
        ")\n",
        "input_image = torch.rand(3,28,28)\n",
        "logits = seq_modules(input_image)\n",
        "print(logits)"
      ],
      "metadata": {
        "id": "G6UpMoKCAM1t",
        "outputId": "d6b6cbbe-1b40-4295-8387-dba4c7944b77",
        "colab": {
          "base_uri": "https://localhost:8080/"
        }
      },
      "execution_count": 10,
      "outputs": [
        {
          "output_type": "stream",
          "name": "stdout",
          "text": [
            "tensor([[-0.2315,  0.0266, -0.0527, -0.0171,  0.0691, -0.0259, -0.0418,  0.2329,\n",
            "         -0.0580, -0.1559],\n",
            "        [-0.1432, -0.1710, -0.0540,  0.0258,  0.1490, -0.0094, -0.0582,  0.1769,\n",
            "         -0.0367, -0.1624],\n",
            "        [-0.1061, -0.0622, -0.1605, -0.0638,  0.1702,  0.0106, -0.1927,  0.2185,\n",
            "         -0.0057, -0.0348]], grad_fn=<AddmmBackward0>)\n"
          ]
        }
      ]
    },
    {
      "cell_type": "markdown",
      "source": [
        "**nn.Softmax**\n",
        "\n",
        "The last linear layer of the neural network returns logits - values in [-infty, infty] - which are passed to the [`nn.Softmax`](https://pytorch.org/docs/stable/generated/torch.nn.Softmax.html) module. The logits are scaled to values [0, 1] representing the model’s predicted probabilities for each class. `dim` parameter indicates the dimension along which the values must sum to 1."
      ],
      "metadata": {
        "id": "5FJ-3DB-ASqc"
      }
    },
    {
      "cell_type": "code",
      "source": [
        "softmax = nn.Softmax(dim=1) #softmax is over the columns per each row\n",
        "pred_probab = softmax(logits)\n",
        "print(pred_probab)"
      ],
      "metadata": {
        "id": "_wxcRRgiAjza",
        "outputId": "a7840fe4-8bc7-412b-d8b2-4a269104ec7f",
        "colab": {
          "base_uri": "https://localhost:8080/"
        }
      },
      "execution_count": 11,
      "outputs": [
        {
          "output_type": "stream",
          "name": "stdout",
          "text": [
            "tensor([[0.0808, 0.1046, 0.0966, 0.1001, 0.1091, 0.0992, 0.0977, 0.1286, 0.0961,\n",
            "         0.0871],\n",
            "        [0.0886, 0.0861, 0.0968, 0.1049, 0.1186, 0.1012, 0.0964, 0.1220, 0.0985,\n",
            "         0.0869],\n",
            "        [0.0913, 0.0954, 0.0864, 0.0952, 0.1203, 0.1026, 0.0837, 0.1263, 0.1009,\n",
            "         0.0980]], grad_fn=<SoftmaxBackward0>)\n"
          ]
        }
      ]
    },
    {
      "cell_type": "markdown",
      "source": [
        "### Model Parameters\n",
        "\n",
        "Many layers inside a neural network are parameterized, i.e. have associated weights and biases that are optimized during training. Subclassing `nn.Module` automatically tracks all fields defined inside your model object, and makes all parameters accessible using your model’s `parameters()` or `named_parameters()` methods.\n",
        "\n",
        "In this example, we iterate over each parameter, and print its size and a preview of its values."
      ],
      "metadata": {
        "id": "glE-gs_3H2i3"
      }
    },
    {
      "cell_type": "code",
      "source": [
        "print(f\"Model structure: {model}\\n\\n\")\n",
        "\n",
        "for name, param in model.named_parameters():\n",
        "    print(f\"Layer: {name} | Size: {param.size()} | Values : {param[:2]} \\n\")"
      ],
      "metadata": {
        "id": "pvAKVy-jJhzY",
        "outputId": "43a15855-390f-4886-ad00-7229662841d7",
        "colab": {
          "base_uri": "https://localhost:8080/"
        }
      },
      "execution_count": 12,
      "outputs": [
        {
          "output_type": "stream",
          "name": "stdout",
          "text": [
            "Model structure: NeuralNetwork(\n",
            "  (flatten): Flatten(start_dim=1, end_dim=-1)\n",
            "  (linear_relu_stack): Sequential(\n",
            "    (0): Linear(in_features=784, out_features=512, bias=True)\n",
            "    (1): ReLU()\n",
            "    (2): Linear(in_features=512, out_features=512, bias=True)\n",
            "    (3): ReLU()\n",
            "    (4): Linear(in_features=512, out_features=10, bias=True)\n",
            "  )\n",
            ")\n",
            "\n",
            "\n",
            "Layer: linear_relu_stack.0.weight | Size: torch.Size([512, 784]) | Values : tensor([[-0.0310, -0.0048,  0.0186,  ...,  0.0040, -0.0041, -0.0153],\n",
            "        [ 0.0222, -0.0290, -0.0012,  ..., -0.0293, -0.0178, -0.0285]],\n",
            "       device='cuda:0', grad_fn=<SliceBackward0>) \n",
            "\n",
            "Layer: linear_relu_stack.0.bias | Size: torch.Size([512]) | Values : tensor([0.0332, 0.0073], device='cuda:0', grad_fn=<SliceBackward0>) \n",
            "\n",
            "Layer: linear_relu_stack.2.weight | Size: torch.Size([512, 512]) | Values : tensor([[ 0.0205,  0.0117, -0.0214,  ..., -0.0281, -0.0325, -0.0362],\n",
            "        [-0.0198,  0.0073,  0.0267,  ...,  0.0417,  0.0407, -0.0032]],\n",
            "       device='cuda:0', grad_fn=<SliceBackward0>) \n",
            "\n",
            "Layer: linear_relu_stack.2.bias | Size: torch.Size([512]) | Values : tensor([ 0.0395, -0.0293], device='cuda:0', grad_fn=<SliceBackward0>) \n",
            "\n",
            "Layer: linear_relu_stack.4.weight | Size: torch.Size([10, 512]) | Values : tensor([[ 0.0087, -0.0310, -0.0201,  ..., -0.0255,  0.0341,  0.0122],\n",
            "        [-0.0372, -0.0313,  0.0219,  ...,  0.0342,  0.0025, -0.0261]],\n",
            "       device='cuda:0', grad_fn=<SliceBackward0>) \n",
            "\n",
            "Layer: linear_relu_stack.4.bias | Size: torch.Size([10]) | Values : tensor([-0.0383, -0.0317], device='cuda:0', grad_fn=<SliceBackward0>) \n",
            "\n"
          ]
        }
      ]
    },
    {
      "cell_type": "markdown",
      "source": [
        "## Automatic Differentiation with `torch.autograd`\n",
        "\n",
        "When training neural networks, the most frequently used algorithm is **back propagation**. In this algorithm, parameters (model weights) are adjusted according to the **gradient** of the loss function with respect to the given parameter.\n",
        "\n",
        "To compute those gradients, PyTorch has a built-in differentiation engine called `torch.autograd`. It supports automatic computation of gradient for any computational graph.\n",
        "\n",
        "Consider the simplest one-layer neural network, with input `x`, parameters `w` and `b`, and some loss function. It can be defined in PyTorch in the following manner:"
      ],
      "metadata": {
        "id": "qnGZJmo0JyFJ"
      }
    },
    {
      "cell_type": "code",
      "source": [
        "import torch\n",
        "\n",
        "x = torch.ones(5)  # input tensor\n",
        "y = torch.zeros(3)  # expected output\n",
        "w = torch.randn(5, 3, requires_grad=True)\n",
        "b = torch.randn(3, requires_grad=True)\n",
        "z = torch.matmul(x, w)+b\n",
        "loss = torch.nn.functional.binary_cross_entropy_with_logits(z, y)"
      ],
      "metadata": {
        "id": "86v8CQO4-eM7"
      },
      "execution_count": 13,
      "outputs": []
    },
    {
      "cell_type": "markdown",
      "source": [
        "In this network, `w` and `b` are parameters, which we need to optimize. Thus, we need to be able to compute the gradients of loss function with respect to those variables. In order to do that, we set the `requires_grad` property of those tensors."
      ],
      "metadata": {
        "id": "seY2qP4pgpf5"
      }
    },
    {
      "cell_type": "markdown",
      "source": [
        "### Computing Gradients\n",
        "\n",
        "To optimize weights of parameters in the neural network, we need to compute the derivatives of our loss function with respect to the parameters under some fixed values of `x` and `y`. To compute those derivatives, we call `loss.backward()`, and then retrieve the values from `w.grad` and `b.grad`:"
      ],
      "metadata": {
        "id": "hQzbakYZh7nz"
      }
    },
    {
      "cell_type": "code",
      "source": [
        "loss.backward()\n",
        "print(w.grad)\n",
        "print(b.grad)"
      ],
      "metadata": {
        "id": "1l_xiMb5hCoR",
        "outputId": "44a9ca7f-faf0-4154-9862-3907f076d79f",
        "colab": {
          "base_uri": "https://localhost:8080/"
        }
      },
      "execution_count": 14,
      "outputs": [
        {
          "output_type": "stream",
          "name": "stdout",
          "text": [
            "tensor([[1.9767e-02, 1.6323e-01, 4.1805e-05],\n",
            "        [1.9767e-02, 1.6323e-01, 4.1805e-05],\n",
            "        [1.9767e-02, 1.6323e-01, 4.1805e-05],\n",
            "        [1.9767e-02, 1.6323e-01, 4.1805e-05],\n",
            "        [1.9767e-02, 1.6323e-01, 4.1805e-05]])\n",
            "tensor([1.9767e-02, 1.6323e-01, 4.1805e-05])\n"
          ]
        }
      ]
    },
    {
      "cell_type": "markdown",
      "source": [
        "**NOTE**\n",
        "\n",
        "\n",
        "\n",
        "* We can only obtain the grad properties for the leaf nodes of the computational graph, which have `requires_grad` property set to `True`. For all other nodes in our graph, gradients will not be available.\n",
        "\n",
        "* We can only perform gradient calculations using `backward` once on a given graph, for performance reasons. If we need to do several backward calls on the same graph, we need to pass `retain_graph=True` to the backward call.\n"
      ],
      "metadata": {
        "id": "TI9PXO7BFP1W"
      }
    },
    {
      "cell_type": "markdown",
      "source": [
        "### Disabling Gradient Tracking\n",
        "\n",
        "By default, all tensors with `requires_grad=True` are tracking their computational history and support gradient computation. However, there are some cases when we do not need to do that, for example, when we have trained the model and just want to apply it to some input data, i.e. we only want to do forward computations through the network. We can stop tracking computations by surrounding our computation code with `torch.no_grad()` block:"
      ],
      "metadata": {
        "id": "AvlUPDwCjgDu"
      }
    },
    {
      "cell_type": "code",
      "source": [
        "z = torch.matmul(x, w)+b\n",
        "print(z.requires_grad)\n",
        "\n",
        "with torch.no_grad():\n",
        "    z = torch.matmul(x, w)+b\n",
        "print(z.requires_grad)"
      ],
      "metadata": {
        "id": "Rx4qDH0ljmR5",
        "outputId": "1393302f-e900-4fbd-fed9-01ed33d3e0f6",
        "colab": {
          "base_uri": "https://localhost:8080/"
        }
      },
      "execution_count": 15,
      "outputs": [
        {
          "output_type": "stream",
          "name": "stdout",
          "text": [
            "True\n",
            "False\n"
          ]
        }
      ]
    },
    {
      "cell_type": "markdown",
      "source": [
        "Another way to achieve the same result is to use the `detach()` method on the tensor:"
      ],
      "metadata": {
        "id": "KvlFBn4cjqqF"
      }
    },
    {
      "cell_type": "code",
      "source": [
        "z = torch.matmul(x, w)+b\n",
        "z_det = z.detach()\n",
        "print(z_det.requires_grad)"
      ],
      "metadata": {
        "id": "n_BQ-pjFjsBF",
        "outputId": "338bdf89-76d5-4ecf-a7c2-467b74f3b694",
        "colab": {
          "base_uri": "https://localhost:8080/"
        }
      },
      "execution_count": 16,
      "outputs": [
        {
          "output_type": "stream",
          "name": "stdout",
          "text": [
            "False\n"
          ]
        }
      ]
    },
    {
      "cell_type": "markdown",
      "source": [
        "\n",
        "There are reasons you might want to disable gradient tracking:\n",
        "\n",
        "* To mark some parameters in your neural network as **frozen parameters**.\n",
        "\n",
        "* To **speed up computations** when you are only doing forward pass, because computations on tensors that do not track gradients would be more efficient.\n",
        "\n"
      ],
      "metadata": {
        "id": "QFm9kAFxjw6b"
      }
    },
    {
      "cell_type": "markdown",
      "source": [
        "### Computational graphs\n",
        "\n",
        "The simple NN created above defines the following **computational graph**:"
      ],
      "metadata": {
        "id": "Sr85ZJ-Clthh"
      }
    },
    {
      "cell_type": "markdown",
      "source": [
        "![](https://pytorch.org/tutorials/_images/comp-graph.png)"
      ],
      "metadata": {
        "id": "hf9ON63LmYMm"
      }
    },
    {
      "cell_type": "markdown",
      "source": [
        "A function that we apply to tensors to construct computational graph is in fact an object of class `Function`. This object knows how to compute the function in the *forward* direction, and also how to compute its derivative during the *backward* propagation step. A reference to the backward propagation function is stored in `grad_fn` property of a tensor. You can find more information of `Function` [in the documentation](https://pytorch.org/docs/stable/autograd.html#function)."
      ],
      "metadata": {
        "id": "aobf11G1mZQq"
      }
    },
    {
      "cell_type": "code",
      "source": [
        "x = torch.ones(5)  # input tensor\n",
        "y = torch.zeros(3)  # expected output\n",
        "w = torch.randn(5, 3, requires_grad=True)\n",
        "b = torch.randn(3, requires_grad=True)\n",
        "z = torch.matmul(x, w)+b\n",
        "loss = torch.nn.functional.binary_cross_entropy_with_logits(z, y)\n",
        "\n",
        "print(f\"Gradient function for z = {z.grad_fn}\")\n",
        "print(f\"Gradient function for loss = {loss.grad_fn}\")"
      ],
      "metadata": {
        "id": "2GDihJRdnBWh",
        "outputId": "eb53c086-ed1d-4953-8999-1ccf9ae8c9c8",
        "colab": {
          "base_uri": "https://localhost:8080/"
        }
      },
      "execution_count": 17,
      "outputs": [
        {
          "output_type": "stream",
          "name": "stdout",
          "text": [
            "Gradient function for z = <AddBackward0 object at 0x7f5c5c1f7a90>\n",
            "Gradient function for loss = <BinaryCrossEntropyWithLogitsBackward0 object at 0x7f5c5c1f7040>\n"
          ]
        }
      ]
    },
    {
      "cell_type": "markdown",
      "source": [
        "Conceptually, autograd keeps a record of data (tensors) and all executed operations (along with the resulting new tensors) in a [directed acyclic graph (DAG)](https://en.wikipedia.org/wiki/Directed_acyclic_graph) consisting of [`Function`](https://pytorch.org/docs/stable/autograd.html#torch.autograd.Function) objects. In this DAG, leaves are the input tensors, roots are the output tensors. By tracing this graph from roots to leaves, you can automatically compute the gradients using the chain rule.\n",
        "\n",
        "In a forward pass, autograd does two things simultaneously:\n",
        "\n",
        "* run the requested operation to compute a resulting tensor\n",
        "* maintain the operation’s gradient function in the DAG.\n",
        "\n",
        "The backward pass kicks off when `.backward()` is called on the DAG root. autograd then:\n",
        "\n",
        "* computes the gradients from each `.grad_fn`,\n",
        "* accumulates them in the respective tensor’s `.grad` attribute\n",
        "* using the chain rule, propagates all the way to the leaf tensors.\n",
        "\n",
        "**NOTE**\n",
        "\n",
        "DAGs are dynamic in PyTorch An important thing to note is that the graph is recreated from scratch; after each `.backward()` call, autograd starts populating a new graph. This is exactly what allows you to use control flow statements in your model; you can change the shape, size and operations at every iteration if needed.\n",
        "\n"
      ],
      "metadata": {
        "id": "MbbBxbm_nsh1"
      }
    },
    {
      "cell_type": "markdown",
      "source": [
        "### Tensor Gradients and Jacobian Products\n",
        "\n",
        "In many cases, we have a scalar loss function, and we need to compute the gradient with respect to some parameters. However, there are cases when the output function is an arbitrary tensor. In this case, PyTorch allows you to compute so-called **Jacobian product**, and not the actual gradient.\n",
        "\n",
        "For a vector function $\\vec{y}=f(\\vec{x})$, where $\\vec{x} = \\langle x_1,...,x_n \\rangle$ and $\\vec{y} = \\langle y_1,...,y_m \\rangle$, a gradient of $\\vec{y}$ with respect to $\\vec{x}$ is given by the **Jacobian matrix**: \n",
        "\n",
        "\\begin{equation}\n",
        "J = \\begin{pmatrix}\n",
        "\\frac{\\partial y_1}{\\partial x_1} & ... & \\frac{\\partial y_1}{\\partial x_n}\\\\\n",
        "\\vdots & \\ddots & \\vdots\\\\\n",
        "\\frac{\\partial y_m}{\\partial x_1} & ... & \\frac{\\partial y_n}{\\partial x_n}\n",
        "\\end{pmatrix}\n",
        "\\end{equation}\n",
        "\n",
        "Instead of computing the Jacobian matrix itself, PyTorch allows you to compute **Jacobian Product** $v^T \\cdot J$ for the given input vector $\\vec{v} = \\langle v_1,...,v_m \\rangle$. This is achieved by calling `backward` with $v$ as an argument. The size of $\\vec{v}$ should be the same as the size of the original tensor, with respect to which we want to compute the product:"
      ],
      "metadata": {
        "id": "bfu7n8KiwlLO"
      }
    },
    {
      "cell_type": "code",
      "source": [
        "inp = torch.eye(4, 5, requires_grad=True) #Returns a 2-D tensor with ones on the diagonal and zeros elsewhere.\n",
        "out = (inp+1).pow(2).t()\n",
        "out.backward(torch.ones_like(out), retain_graph=True)\n",
        "print(f\"First call\\n{inp.grad}\")\n",
        "out.backward(torch.ones_like(out), retain_graph=True)\n",
        "print(f\"\\nSecond call\\n{inp.grad}\")\n",
        "inp.grad.zero_()\n",
        "out.backward(torch.ones_like(out), retain_graph=True)\n",
        "print(f\"\\nCall after zeroing gradients\\n{inp.grad}\")"
      ],
      "metadata": {
        "id": "P5XDfCqtnsKW",
        "outputId": "14b29482-bb1a-4b82-ceb3-bf3095d67bd2",
        "colab": {
          "base_uri": "https://localhost:8080/"
        }
      },
      "execution_count": 18,
      "outputs": [
        {
          "output_type": "stream",
          "name": "stdout",
          "text": [
            "First call\n",
            "tensor([[4., 2., 2., 2., 2.],\n",
            "        [2., 4., 2., 2., 2.],\n",
            "        [2., 2., 4., 2., 2.],\n",
            "        [2., 2., 2., 4., 2.]])\n",
            "\n",
            "Second call\n",
            "tensor([[8., 4., 4., 4., 4.],\n",
            "        [4., 8., 4., 4., 4.],\n",
            "        [4., 4., 8., 4., 4.],\n",
            "        [4., 4., 4., 8., 4.]])\n",
            "\n",
            "Call after zeroing gradients\n",
            "tensor([[4., 2., 2., 2., 2.],\n",
            "        [2., 4., 2., 2., 2.],\n",
            "        [2., 2., 4., 2., 2.],\n",
            "        [2., 2., 2., 4., 2.]])\n"
          ]
        }
      ]
    },
    {
      "cell_type": "markdown",
      "source": [
        "Notice that when we call `backward` for the second time with the same argument, the value of the gradient is different. This happens because when doing backward propagation, PyTorch accumulates the gradients, i.e. the value of computed gradients is added to the grad property of all leaf nodes of computational graph. If you want to compute the proper gradients, you need to zero out the grad property before. In real-life training an optimizer helps us to do this.\n",
        "\n",
        "**NOTE**\n",
        "\n",
        "Previously we were calling the `backward()` function without parameters. This is essentially equivalent to calling `backward(torch.tensor(1.0))`, which is a useful way to compute the gradients in case of a scalar-valued function, such as loss during neural network training."
      ],
      "metadata": {
        "id": "XlZ_U19GJuK3"
      }
    },
    {
      "cell_type": "markdown",
      "source": [
        "## Optimizing Model Parameters\n",
        "\n",
        "Now that we have a model and data it’s time to train, validate and test our model by optimizing its parameters on our data. Training a model is an iterative process; in each iteration the model makes a guess about the output, calculates the error in its guess (loss), collects the derivatives of the error with respect to its parameters, and optimizes these parameters using gradient descent. \n",
        "\n",
        "Let's start from scratch:"
      ],
      "metadata": {
        "id": "E5tlCwRvKh0g"
      }
    },
    {
      "cell_type": "code",
      "source": [
        "import torch\n",
        "from torch import nn\n",
        "from torch.utils.data import DataLoader\n",
        "from torchvision import datasets\n",
        "from torchvision.transforms import ToTensor\n",
        "\n",
        "training_data = datasets.FashionMNIST(\n",
        "    root=\"data\",\n",
        "    train=True,\n",
        "    download=True,\n",
        "    transform=ToTensor()\n",
        ")\n",
        "\n",
        "test_data = datasets.FashionMNIST(\n",
        "    root=\"data\",\n",
        "    train=False,\n",
        "    download=True,\n",
        "    transform=ToTensor()\n",
        ")\n",
        "\n",
        "train_dataloader = DataLoader(training_data, batch_size=64)\n",
        "test_dataloader = DataLoader(test_data, batch_size=64)\n",
        "\n",
        "class NeuralNetwork(nn.Module):\n",
        "    def __init__(self):\n",
        "        super(NeuralNetwork, self).__init__()\n",
        "        self.flatten = nn.Flatten()\n",
        "        self.linear_relu_stack = nn.Sequential(\n",
        "            nn.Linear(28*28, 512),\n",
        "            nn.ReLU(),\n",
        "            nn.Linear(512, 512),\n",
        "            nn.ReLU(),\n",
        "            nn.Linear(512, 10),\n",
        "        )\n",
        "\n",
        "    def forward(self, x):\n",
        "        x = self.flatten(x)\n",
        "        logits = self.linear_relu_stack(x)\n",
        "        return logits\n",
        "\n",
        "model = NeuralNetwork()"
      ],
      "metadata": {
        "id": "Tt7COBEhK79J",
        "outputId": "0d993133-f950-4140-8668-8ae81f4954a8",
        "colab": {
          "base_uri": "https://localhost:8080/"
        }
      },
      "execution_count": 19,
      "outputs": [
        {
          "output_type": "stream",
          "name": "stdout",
          "text": [
            "Downloading http://fashion-mnist.s3-website.eu-central-1.amazonaws.com/train-images-idx3-ubyte.gz\n",
            "Downloading http://fashion-mnist.s3-website.eu-central-1.amazonaws.com/train-images-idx3-ubyte.gz to data/FashionMNIST/raw/train-images-idx3-ubyte.gz\n"
          ]
        },
        {
          "output_type": "stream",
          "name": "stderr",
          "text": [
            "100%|██████████| 26421880/26421880 [00:03<00:00, 8519556.06it/s] \n"
          ]
        },
        {
          "output_type": "stream",
          "name": "stdout",
          "text": [
            "Extracting data/FashionMNIST/raw/train-images-idx3-ubyte.gz to data/FashionMNIST/raw\n",
            "\n",
            "Downloading http://fashion-mnist.s3-website.eu-central-1.amazonaws.com/train-labels-idx1-ubyte.gz\n",
            "Downloading http://fashion-mnist.s3-website.eu-central-1.amazonaws.com/train-labels-idx1-ubyte.gz to data/FashionMNIST/raw/train-labels-idx1-ubyte.gz\n"
          ]
        },
        {
          "output_type": "stream",
          "name": "stderr",
          "text": [
            "100%|██████████| 29515/29515 [00:00<00:00, 137743.78it/s]\n"
          ]
        },
        {
          "output_type": "stream",
          "name": "stdout",
          "text": [
            "Extracting data/FashionMNIST/raw/train-labels-idx1-ubyte.gz to data/FashionMNIST/raw\n",
            "\n",
            "Downloading http://fashion-mnist.s3-website.eu-central-1.amazonaws.com/t10k-images-idx3-ubyte.gz\n",
            "Downloading http://fashion-mnist.s3-website.eu-central-1.amazonaws.com/t10k-images-idx3-ubyte.gz to data/FashionMNIST/raw/t10k-images-idx3-ubyte.gz\n"
          ]
        },
        {
          "output_type": "stream",
          "name": "stderr",
          "text": [
            "100%|██████████| 4422102/4422102 [00:01<00:00, 2568197.45it/s]\n"
          ]
        },
        {
          "output_type": "stream",
          "name": "stdout",
          "text": [
            "Extracting data/FashionMNIST/raw/t10k-images-idx3-ubyte.gz to data/FashionMNIST/raw\n",
            "\n",
            "Downloading http://fashion-mnist.s3-website.eu-central-1.amazonaws.com/t10k-labels-idx1-ubyte.gz\n",
            "Downloading http://fashion-mnist.s3-website.eu-central-1.amazonaws.com/t10k-labels-idx1-ubyte.gz to data/FashionMNIST/raw/t10k-labels-idx1-ubyte.gz\n"
          ]
        },
        {
          "output_type": "stream",
          "name": "stderr",
          "text": [
            "100%|██████████| 5148/5148 [00:00<00:00, 10774589.32it/s]"
          ]
        },
        {
          "output_type": "stream",
          "name": "stdout",
          "text": [
            "Extracting data/FashionMNIST/raw/t10k-labels-idx1-ubyte.gz to data/FashionMNIST/raw\n",
            "\n"
          ]
        },
        {
          "output_type": "stream",
          "name": "stderr",
          "text": [
            "\n"
          ]
        }
      ]
    },
    {
      "cell_type": "markdown",
      "source": [
        "### Hyperparameters\n",
        "\n",
        "Hyperparameters are adjustable parameters that let you control the model optimization process. Different hyperparameter values can impact model training and convergence rates (read more about hyperparameter tuning)\n",
        "\n",
        "We define the following hyperparameters for training:\n",
        "\n",
        "* **Number of Epochs** - the number times to iterate over the dataset\n",
        "* **Batch Size** - the number of data samples propagated through the network before the parameters are updated\n",
        "* **Learning Rate** - how much to update models parameters at each batch/epoch. Smaller values yield slow learning speed, while large values may result in unpredictable behavior during training.\n",
        "\n"
      ],
      "metadata": {
        "id": "03gM7g6SLVa3"
      }
    },
    {
      "cell_type": "code",
      "source": [
        "learning_rate = 1e-3\n",
        "batch_size = 64\n",
        "epochs = 10"
      ],
      "metadata": {
        "id": "YhsiRwTGLdrY"
      },
      "execution_count": 20,
      "outputs": []
    },
    {
      "cell_type": "markdown",
      "source": [
        "### Optimization Loop\n",
        "\n",
        "Once we set our hyperparameters, we can then train and optimize our model with an optimization loop. Each iteration of the optimization loop is called an epoch.\n",
        "\n",
        "Each epoch consists of two main parts:\n",
        "\n",
        "* **Train Loop**- iterate over the training dataset and try to converge to optimal parameters.\n",
        "* **Validation/Test Loop** - iterate over the test dataset to check if model performance is improving.\n",
        "\n",
        "Let’s briefly familiarize ourselves with some of the concepts used in the training loop."
      ],
      "metadata": {
        "id": "eLaYx8OpLg_A"
      }
    },
    {
      "cell_type": "markdown",
      "source": [
        "### Loss function\n",
        "\n",
        "When presented with some training data, our untrained network is likely not to give the correct answer. Loss function measures the degree of dissimilarity of obtained result to the target value, and it is the loss function that we want to minimize during training. To calculate the loss we make a prediction using the inputs of our given data sample and compare it against the true data label value.\n",
        "\n",
        "Common loss functions include [`nn.MSELoss`](https://pytorch.org/docs/stable/generated/torch.nn.MSELoss.html#torch.nn.MSELoss) (Mean Square Error) for regression tasks, and [`nn.NLLLoss`](https://pytorch.org/docs/stable/generated/torch.nn.NLLLoss.html#torch.nn.NLLLoss) (Negative Log Likelihood) for classification. [`nn.CrossEntropyLoss`](https://pytorch.org/docs/stable/generated/torch.nn.CrossEntropyLoss.html#torch.nn.CrossEntropyLoss) combines `nn.LogSoftmax` and `nn.NLLLoss`.\n",
        "\n",
        "We pass our model’s output logits to `nn.CrossEntropyLoss`, which will normalize the logits and compute the prediction error."
      ],
      "metadata": {
        "id": "9n_BnszFLwFo"
      }
    },
    {
      "cell_type": "code",
      "source": [
        "# Initialize the loss function\n",
        "loss_fn = nn.CrossEntropyLoss()"
      ],
      "metadata": {
        "id": "6EfUbtr7LswF"
      },
      "execution_count": 21,
      "outputs": []
    },
    {
      "cell_type": "markdown",
      "source": [
        "### Optimizer\n",
        "\n",
        "Optimization is the process of adjusting model parameters to reduce model error in each training step. Optimization algorithms define how this process is performed (in this example we use Stochastic Gradient Descent). All optimization logic is encapsulated in the `optimizer` object. Here, we use the SGD optimizer; additionally, there are many [different optimizers](https://pytorch.org/docs/stable/optim.html) available in PyTorch such as ADAM and RMSProp, that work better for different kinds of models and data.\n",
        "\n",
        "We initialize the optimizer by registering the model’s parameters that need to be trained, and passing in the learning rate hyperparameter."
      ],
      "metadata": {
        "id": "zjKDXHR8MXXW"
      }
    },
    {
      "cell_type": "code",
      "source": [
        "optimizer = torch.optim.SGD(model.parameters(), lr=learning_rate)"
      ],
      "metadata": {
        "id": "9fSFqrYXMjvs"
      },
      "execution_count": 22,
      "outputs": []
    },
    {
      "cell_type": "markdown",
      "source": [
        "Inside the training loop, optimization happens in three steps:\n",
        "\n",
        "* Call `optimizer.zero_grad()` to reset the gradients of model parameters. Gradients by default add up; to prevent double-counting, we explicitly zero them at each iteration.\n",
        "* Backpropagate the prediction loss with a call to `loss.backward()`. PyTorch deposits the gradients of the loss w.r.t. each parameter.\n",
        "* Once we have our gradients, we call `optimizer.step()` to adjust the parameters by the gradients collected in the backward pass.\n",
        "\n"
      ],
      "metadata": {
        "id": "Po1-t3c5MoRr"
      }
    },
    {
      "cell_type": "markdown",
      "source": [
        "### Full Implementation\n",
        "\n",
        "We define `train_loop` that loops over our optimization code, and `test_loop` that evaluates the model’s performance against our test data."
      ],
      "metadata": {
        "id": "r0xYC5L7Mym-"
      }
    },
    {
      "cell_type": "code",
      "source": [
        "def train_loop(dataloader, model, loss_fn, optimizer):\n",
        "    size = len(dataloader.dataset)\n",
        "    for batch, (X, y) in enumerate(dataloader):\n",
        "        # Compute prediction and loss\n",
        "        pred = model(X)\n",
        "        loss = loss_fn(pred, y)\n",
        "\n",
        "        # Backpropagation\n",
        "        optimizer.zero_grad()\n",
        "        loss.backward()\n",
        "        optimizer.step()\n",
        "\n",
        "        if batch % 100 == 0:\n",
        "            loss, current = loss.item(), (batch + 1) * len(X)\n",
        "            print(f\"loss: {loss:>7f}  [{current:>5d}/{size:>5d}]\")\n",
        "\n",
        "\n",
        "def test_loop(dataloader, model, loss_fn):\n",
        "    size = len(dataloader.dataset)\n",
        "    num_batches = len(dataloader)\n",
        "    test_loss, correct = 0, 0\n",
        "\n",
        "    with torch.no_grad():\n",
        "        for X, y in dataloader:\n",
        "            pred = model(X)\n",
        "            test_loss += loss_fn(pred, y).item()\n",
        "            correct += (pred.argmax(1) == y).type(torch.float).sum().item()\n",
        "\n",
        "    test_loss /= num_batches\n",
        "    correct /= size\n",
        "    print(f\"Test Error: \\n Accuracy: {(100*correct):>0.1f}%, Avg loss: {test_loss:>8f} \\n\")"
      ],
      "metadata": {
        "id": "pqTiQEXHgaQW"
      },
      "execution_count": 23,
      "outputs": []
    },
    {
      "cell_type": "markdown",
      "source": [
        "We initialize the loss function and optimizer, and pass it to `train_loop` and `test_loop`. Feel free to increase the number of epochs to track the model’s improving performance."
      ],
      "metadata": {
        "id": "q93MwM6OM7Zh"
      }
    },
    {
      "cell_type": "code",
      "source": [
        "loss_fn = nn.CrossEntropyLoss()\n",
        "optimizer = torch.optim.SGD(model.parameters(), lr=learning_rate)\n",
        "\n",
        "for t in range(epochs):\n",
        "    print(f\"Epoch {t+1}\\n-------------------------------\")\n",
        "    train_loop(train_dataloader, model, loss_fn, optimizer)\n",
        "    test_loop(test_dataloader, model, loss_fn)\n",
        "print(\"Done!\")"
      ],
      "metadata": {
        "id": "moHSkwEJM_n-",
        "outputId": "28c53af5-d16e-49e0-ab0e-34b12e777627",
        "colab": {
          "base_uri": "https://localhost:8080/"
        }
      },
      "execution_count": 24,
      "outputs": [
        {
          "output_type": "stream",
          "name": "stdout",
          "text": [
            "Epoch 1\n",
            "-------------------------------\n",
            "loss: 2.322595  [   64/60000]\n",
            "loss: 2.305633  [ 6464/60000]\n",
            "loss: 2.280398  [12864/60000]\n",
            "loss: 2.261694  [19264/60000]\n",
            "loss: 2.253829  [25664/60000]\n",
            "loss: 2.218399  [32064/60000]\n",
            "loss: 2.222457  [38464/60000]\n",
            "loss: 2.192348  [44864/60000]\n",
            "loss: 2.193692  [51264/60000]\n",
            "loss: 2.143870  [57664/60000]\n",
            "Test Error: \n",
            " Accuracy: 43.0%, Avg loss: 2.148002 \n",
            "\n",
            "Epoch 2\n",
            "-------------------------------\n",
            "loss: 2.169822  [   64/60000]\n",
            "loss: 2.157102  [ 6464/60000]\n",
            "loss: 2.094820  [12864/60000]\n",
            "loss: 2.108064  [19264/60000]\n",
            "loss: 2.053644  [25664/60000]\n",
            "loss: 1.990566  [32064/60000]\n",
            "loss: 2.016848  [38464/60000]\n",
            "loss: 1.937833  [44864/60000]\n",
            "loss: 1.955189  [51264/60000]\n",
            "loss: 1.867866  [57664/60000]\n",
            "Test Error: \n",
            " Accuracy: 54.9%, Avg loss: 1.869225 \n",
            "\n",
            "Epoch 3\n",
            "-------------------------------\n",
            "loss: 1.912014  [   64/60000]\n",
            "loss: 1.877814  [ 6464/60000]\n",
            "loss: 1.757464  [12864/60000]\n",
            "loss: 1.802131  [19264/60000]\n",
            "loss: 1.689433  [25664/60000]\n",
            "loss: 1.642985  [32064/60000]\n",
            "loss: 1.665430  [38464/60000]\n",
            "loss: 1.568291  [44864/60000]\n",
            "loss: 1.605092  [51264/60000]\n",
            "loss: 1.493425  [57664/60000]\n",
            "Test Error: \n",
            " Accuracy: 60.5%, Avg loss: 1.507916 \n",
            "\n",
            "Epoch 4\n",
            "-------------------------------\n",
            "loss: 1.582356  [   64/60000]\n",
            "loss: 1.543236  [ 6464/60000]\n",
            "loss: 1.391949  [12864/60000]\n",
            "loss: 1.466696  [19264/60000]\n",
            "loss: 1.349177  [25664/60000]\n",
            "loss: 1.347128  [32064/60000]\n",
            "loss: 1.361487  [38464/60000]\n",
            "loss: 1.284786  [44864/60000]\n",
            "loss: 1.323396  [51264/60000]\n",
            "loss: 1.227550  [57664/60000]\n",
            "Test Error: \n",
            " Accuracy: 63.3%, Avg loss: 1.246258 \n",
            "\n",
            "Epoch 5\n",
            "-------------------------------\n",
            "loss: 1.324858  [   64/60000]\n",
            "loss: 1.306939  [ 6464/60000]\n",
            "loss: 1.137607  [12864/60000]\n",
            "loss: 1.248952  [19264/60000]\n",
            "loss: 1.127878  [25664/60000]\n",
            "loss: 1.150438  [32064/60000]\n",
            "loss: 1.173785  [38464/60000]\n",
            "loss: 1.106570  [44864/60000]\n",
            "loss: 1.147286  [51264/60000]\n",
            "loss: 1.069126  [57664/60000]\n",
            "Test Error: \n",
            " Accuracy: 64.9%, Avg loss: 1.084118 \n",
            "\n",
            "Epoch 6\n",
            "-------------------------------\n",
            "loss: 1.153096  [   64/60000]\n",
            "loss: 1.157776  [ 6464/60000]\n",
            "loss: 0.970422  [12864/60000]\n",
            "loss: 1.112611  [19264/60000]\n",
            "loss: 0.995136  [25664/60000]\n",
            "loss: 1.018482  [32064/60000]\n",
            "loss: 1.058195  [38464/60000]\n",
            "loss: 0.993580  [44864/60000]\n",
            "loss: 1.034874  [51264/60000]\n",
            "loss: 0.968309  [57664/60000]\n",
            "Test Error: \n",
            " Accuracy: 66.0%, Avg loss: 0.980005 \n",
            "\n",
            "Epoch 7\n",
            "-------------------------------\n",
            "loss: 1.035422  [   64/60000]\n",
            "loss: 1.060541  [ 6464/60000]\n",
            "loss: 0.856169  [12864/60000]\n",
            "loss: 1.021246  [19264/60000]\n",
            "loss: 0.912463  [25664/60000]\n",
            "loss: 0.925597  [32064/60000]\n",
            "loss: 0.983047  [38464/60000]\n",
            "loss: 0.920244  [44864/60000]\n",
            "loss: 0.958143  [51264/60000]\n",
            "loss: 0.900040  [57664/60000]\n",
            "Test Error: \n",
            " Accuracy: 67.2%, Avg loss: 0.909163 \n",
            "\n",
            "Epoch 8\n",
            "-------------------------------\n",
            "loss: 0.949652  [   64/60000]\n",
            "loss: 0.992836  [ 6464/60000]\n",
            "loss: 0.774425  [12864/60000]\n",
            "loss: 0.956254  [19264/60000]\n",
            "loss: 0.857451  [25664/60000]\n",
            "loss: 0.857835  [32064/60000]\n",
            "loss: 0.930240  [38464/60000]\n",
            "loss: 0.870764  [44864/60000]\n",
            "loss: 0.903418  [51264/60000]\n",
            "loss: 0.850994  [57664/60000]\n",
            "Test Error: \n",
            " Accuracy: 68.2%, Avg loss: 0.858279 \n",
            "\n",
            "Epoch 9\n",
            "-------------------------------\n",
            "loss: 0.883898  [   64/60000]\n",
            "loss: 0.942255  [ 6464/60000]\n",
            "loss: 0.713636  [12864/60000]\n",
            "loss: 0.907869  [19264/60000]\n",
            "loss: 0.818163  [25664/60000]\n",
            "loss: 0.807309  [32064/60000]\n",
            "loss: 0.890462  [38464/60000]\n",
            "loss: 0.836313  [44864/60000]\n",
            "loss: 0.862740  [51264/60000]\n",
            "loss: 0.813681  [57664/60000]\n",
            "Test Error: \n",
            " Accuracy: 69.3%, Avg loss: 0.819880 \n",
            "\n",
            "Epoch 10\n",
            "-------------------------------\n",
            "loss: 0.831565  [   64/60000]\n",
            "loss: 0.902009  [ 6464/60000]\n",
            "loss: 0.666701  [12864/60000]\n",
            "loss: 0.870472  [19264/60000]\n",
            "loss: 0.788260  [25664/60000]\n",
            "loss: 0.768990  [32064/60000]\n",
            "loss: 0.858405  [38464/60000]\n",
            "loss: 0.810958  [44864/60000]\n",
            "loss: 0.831218  [51264/60000]\n",
            "loss: 0.783807  [57664/60000]\n",
            "Test Error: \n",
            " Accuracy: 70.6%, Avg loss: 0.789446 \n",
            "\n",
            "Done!\n"
          ]
        }
      ]
    },
    {
      "cell_type": "markdown",
      "source": [
        "## Save and Load the Model\n",
        "\n",
        "In this section we will look at how to persist model state with saving, loading and running model predictions."
      ],
      "metadata": {
        "id": "gBkiZ4TlNENP"
      }
    },
    {
      "cell_type": "markdown",
      "source": [
        "### Saving and Loading Model Weights\n",
        "\n",
        "PyTorch models store the learned parameters in an internal state dictionary, called `state_dict`. These can be persisted via the `torch.save` method:"
      ],
      "metadata": {
        "id": "rt9B8MHcNO5o"
      }
    },
    {
      "cell_type": "code",
      "source": [
        "torch.save(model.state_dict(), 'model_weights.pth')"
      ],
      "metadata": {
        "id": "HBdz4S6gNVeh"
      },
      "execution_count": null,
      "outputs": []
    },
    {
      "cell_type": "markdown",
      "source": [
        "To load model weights, you need to create an instance of the same model first, and then load the parameters using `load_state_dict()` method:"
      ],
      "metadata": {
        "id": "7ZiO4p2sOa0i"
      }
    },
    {
      "cell_type": "code",
      "source": [
        "model_new = NeuralNetwork()\n",
        "model_new.load_state_dict(torch.load('model_weights.pth'))\n",
        "model_new.eval()"
      ],
      "metadata": {
        "id": "QkM47JCzOJff"
      },
      "execution_count": null,
      "outputs": []
    },
    {
      "cell_type": "markdown",
      "source": [
        "### Saving and Loading Models with Shapes\n",
        "\n",
        "When loading model weights, we needed to instantiate the model class first, because the class defines the structure of a network. We might want to save the structure of this class together with the model, in which case we can pass model (and not `model.state_dict()`) to the saving function:"
      ],
      "metadata": {
        "id": "yg5vIJHAOmpZ"
      }
    },
    {
      "cell_type": "code",
      "source": [
        "torch.save(model, 'model.pth')\n",
        "model_new = torch.load('model.pth')"
      ],
      "metadata": {
        "id": "CInluGULO90H"
      },
      "execution_count": null,
      "outputs": []
    }
  ]
}